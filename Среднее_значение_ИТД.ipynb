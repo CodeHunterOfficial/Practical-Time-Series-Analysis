{
  "nbformat": 4,
  "nbformat_minor": 0,
  "metadata": {
    "colab": {
      "name": "Среднее значение.ipynb",
      "provenance": [],
      "collapsed_sections": [],
      "include_colab_link": true
    },
    "kernelspec": {
      "name": "python3",
      "display_name": "Python 3"
    }
  },
  "cells": [
    {
      "cell_type": "markdown",
      "metadata": {
        "id": "view-in-github",
        "colab_type": "text"
      },
      "source": [
        "<a href=\"https://colab.research.google.com/github/CodeHunterOfficial/Practical-Time-Series-Analysis/blob/main/%D0%A1%D1%80%D0%B5%D0%B4%D0%BD%D0%B5%D0%B5_%D0%B7%D0%BD%D0%B0%D1%87%D0%B5%D0%BD%D0%B8%D0%B5_%D0%98%D0%A2%D0%94.ipynb\" target=\"_parent\"><img src=\"https://colab.research.google.com/assets/colab-badge.svg\" alt=\"Open In Colab\"/></a>"
      ]
    },
    {
      "cell_type": "markdown",
      "metadata": {
        "id": "d2qlxyDnKKf0"
      },
      "source": [
        "## Теорема Байеса (Bayes Theorem) - https://www.helenkapatsa.ru/tieoriema-baiiesa/\n",
        "##Среднее значение (Average) - https://www.helenkapatsa.ru/sriednieie-znachieniie/\n",
        "## Дисперсия (Variance) - https://www.helenkapatsa.ru/dispiersiia/"
      ]
    },
    {
      "cell_type": "code",
      "metadata": {
        "colab": {
          "base_uri": "https://localhost:8080/",
          "height": 282
        },
        "id": "LBnqj1VgwhBQ",
        "outputId": "a5d99203-2871-4197-f1d3-38f92c2dee78"
      },
      "source": [
        "!pip install statistics"
      ],
      "execution_count": null,
      "outputs": [
        {
          "output_type": "stream",
          "text": [
            "Collecting statistics\n",
            "  Downloading https://files.pythonhosted.org/packages/bb/3a/ae99a15e65636559d936dd2159d75af1619491e8cb770859fbc8aa62cef6/statistics-1.0.3.5.tar.gz\n",
            "Requirement already satisfied: docutils>=0.3 in /usr/local/lib/python3.6/dist-packages (from statistics) (0.16)\n",
            "Building wheels for collected packages: statistics\n",
            "  Building wheel for statistics (setup.py) ... \u001b[?25l\u001b[?25hdone\n",
            "  Created wheel for statistics: filename=statistics-1.0.3.5-cp36-none-any.whl size=7454 sha256=7684bbae3e06b12b6b7c324ac1ff8931a98f13b37722e0f25532e0a02dc91324\n",
            "  Stored in directory: /root/.cache/pip/wheels/75/55/90/73aa7662bfb4565b567618547a275f01372a678ca92ecd64f3\n",
            "Successfully built statistics\n",
            "Installing collected packages: statistics\n",
            "Successfully installed statistics-1.0.3.5\n"
          ],
          "name": "stdout"
        },
        {
          "output_type": "display_data",
          "data": {
            "application/vnd.colab-display-data+json": {
              "pip_warning": {
                "packages": [
                  "statistics"
                ]
              }
            }
          },
          "metadata": {
            "tags": []
          }
        }
      ]
    },
    {
      "cell_type": "markdown",
      "metadata": {
        "id": "cZu8cNkwk-1S"
      },
      "source": [
        "Библиотеки быстро эволюционируют, потому после импорта указывается рабочая версия, с которой работал автор на момент написания статьи. Для быстрого дебаггинга используйте команду для установки явной версии '!pip install [библиотека]==[версия]'."
      ]
    },
    {
      "cell_type": "code",
      "metadata": {
        "id": "VpwPLt77xdAz"
      },
      "source": [
        "import statistics"
      ],
      "execution_count": null,
      "outputs": []
    },
    {
      "cell_type": "code",
      "metadata": {
        "colab": {
          "base_uri": "https://localhost:8080/"
        },
        "id": "BV7PYQ-RwOIf",
        "outputId": "f70bc00b-31f4-43b3-a668-6cfea4a99f04"
      },
      "source": [
        "# Выборка: высота плодовых деревьев  \n",
        "lst = [5, 16, 1, 12, 20, 5, 17, 2, 11, 3, 16, 15, 6, 9]\n",
        "\n",
        "x = statistics.mean(lst) \n",
        "print('Среднее арифметическое: %.3f' % x)"
      ],
      "execution_count": null,
      "outputs": [
        {
          "output_type": "stream",
          "text": [
            "Среднее арифметическое: 9.857\n"
          ],
          "name": "stdout"
        }
      ]
    },
    {
      "cell_type": "markdown",
      "metadata": {
        "id": "tOJ4MewYKOP8"
      },
      "source": [
        "##  Среднее геометрическое"
      ]
    },
    {
      "cell_type": "code",
      "metadata": {
        "id": "_SLOzL2fKRn1"
      },
      "source": [
        "import scipy\n",
        "from scipy.stats import gmean"
      ],
      "execution_count": null,
      "outputs": []
    },
    {
      "cell_type": "code",
      "metadata": {
        "colab": {
          "base_uri": "https://localhost:8080/"
        },
        "id": "Gn8cFdr3KV6M",
        "outputId": "21613e98-d447-4a5d-8913-6416cc1c7177"
      },
      "source": [
        "print(scipy.__version__)"
      ],
      "execution_count": null,
      "outputs": [
        {
          "output_type": "stream",
          "text": [
            "1.4.1\n"
          ],
          "name": "stdout"
        }
      ]
    },
    {
      "cell_type": "code",
      "metadata": {
        "colab": {
          "base_uri": "https://localhost:8080/"
        },
        "id": "V3CsEVSRKQmA",
        "outputId": "69bb0d2b-76f3-4026-90e7-d13bcc8ba2cf"
      },
      "source": [
        "# Инициализируем список данных\n",
        "data = [1, 2, 3, 40, 50, 60, 0.7, 0.88, 0.9, 1000]\n",
        "\n",
        "# Применим функцию\n",
        "y = gmean(data)\n",
        "print('Среднее геометрическое: %.3f' % y)"
      ],
      "execution_count": null,
      "outputs": [
        {
          "output_type": "stream",
          "text": [
            "Среднее геометрическое: 7.246\n"
          ],
          "name": "stdout"
        }
      ]
    },
    {
      "cell_type": "markdown",
      "metadata": {
        "id": "EcbF9MVN90VH"
      },
      "source": [
        "## Среднее гармоническое"
      ]
    },
    {
      "cell_type": "code",
      "metadata": {
        "id": "t7PoRPgT93NV"
      },
      "source": [
        "from scipy.stats import hmean"
      ],
      "execution_count": null,
      "outputs": []
    },
    {
      "cell_type": "code",
      "metadata": {
        "colab": {
          "base_uri": "https://localhost:8080/"
        },
        "id": "7ijVmpgX95O7",
        "outputId": "0190e543-d5e4-4c52-86df-817bc87da8eb"
      },
      "source": [
        "# Инициализируем список\n",
        "data = [0.11, 0.22, 0.33, 0.44, 0.55, 0.66, 0.77, 0.88, 0.99]\n",
        "\n",
        "z = hmean(data)\n",
        "print('Среднее гармоническое: %.3f' % z)"
      ],
      "execution_count": null,
      "outputs": [
        {
          "output_type": "stream",
          "text": [
            "Среднее гармоническое: 0.350\n"
          ],
          "name": "stdout"
        }
      ]
    }
  ]
}