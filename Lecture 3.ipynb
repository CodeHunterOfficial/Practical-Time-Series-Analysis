{
  "nbformat": 4,
  "nbformat_minor": 0,
  "metadata": {
    "colab": {
      "provenance": [],
      "collapsed_sections": [],
      "authorship_tag": "ABX9TyNJrgNl5gKz5ahr8rQPbV69",
      "include_colab_link": true
    },
    "kernelspec": {
      "name": "python3",
      "display_name": "Python 3"
    },
    "language_info": {
      "name": "python"
    }
  },
  "cells": [
    {
      "cell_type": "markdown",
      "metadata": {
        "id": "view-in-github",
        "colab_type": "text"
      },
      "source": [
        "<a href=\"https://colab.research.google.com/github/CodeHunterOfficial/Practical-Time-Series-Analysis/blob/main/Lecture%203.ipynb\" target=\"_parent\"><img src=\"https://colab.research.google.com/assets/colab-badge.svg\" alt=\"Open In Colab\"/></a>"
      ]
    },
    {
      "cell_type": "markdown",
      "source": [
        "# Моделирование временных рядов\n"
      ],
      "metadata": {
        "id": "POFec0-J04WV"
      }
    },
    {
      "cell_type": "code",
      "source": [
        "До настоящего момента нами обсуждались только вопросы сбора и извлечения временных рядов, а также их обработки. В этой главе речь пойдет о создании временных ряды в результате моделирования. Нам предстоит обсудить три основных вопроса. Во-первых, сравнить принципы моделирования временных рядов с таковыми в других способах моделирования данных, отмечая особенности процесса, вызванные необходимостью учета течения времени. Во-вторых, изучить несколько программных примеров моделирования. И в-третьих, обсудить важные тенденции моделирования временных рядов. Основная часть этой главы будет посвящена примерам кода, отвечающего за генерацию временных рядов разных типов. Среди них выделяются следующие наиболее важные ситуации.\n"
      ],
      "metadata": {
        "id": "80Ryf3lT080p"
      },
      "execution_count": null,
      "outputs": []
    },
    {
      "cell_type": "markdown",
      "source": [
        "До настоящего момента нами обсуждались только вопросы сбора и извлечения временных рядов, а также их обработки. В этой главе речь пойдет о создании временных ряды в результате моделирования. \n",
        "\n",
        "Нам предстоит обсудить три основных вопроса. \n",
        "\n",
        "*  Cравнить принципы моделирования временных рядов с таковыми в других способах моделирования данных, отмечая особенности процесса, вызванные необходимостью учета течения времени. \n",
        "\n",
        "*  Изучить несколько программных примеров моделирования. \n",
        "\n",
        "*  Обсудить важные тенденции моделирования временных рядов. \n"
      ],
      "metadata": {
        "id": "FXlBtHIP1I9J"
      }
    },
    {
      "cell_type": "markdown",
      "source": [
        "Основная часть этой главы будет посвящена примерам кода, отвечающего за генерацию временных рядов разных типов. Среди них выделяются следующие наиболее важные ситуации.\n",
        "\n",
        "*  Моделирование поведения членов благотворительной организации, заключающегося в изучении почтовых сообщений и внесении добровольных пожертвований в течение всего срока членства в организации. Пример напрямую связан с данными, которые были описаны в главе 2.\n",
        "*  Моделирование событий в таксопарке, насчитывающем 1000 автомобилей, каждый из которых описывается с разным временем начала смены и количеством перевозимых пассажиров в течение рабочего дня.\n",
        "*  Пошаговое моделирование состояния твердого магнитного тела при заданной температуре и размерах, описываемого строгими физическими законами.\n"
      ],
      "metadata": {
        "id": "gnzf1pwC1GTx"
      }
    },
    {
      "cell_type": "markdown",
      "source": [
        "Каждый пример подчиняется одному из следующих способов моделирования временных рядов.\n",
        "\n",
        "1.  Эвристическое моделирование\n",
        ">  Мы сами решаем, как должен работать мир, обеспечиваем его “разумность” и самостоятельно пишем код управления таким миром.\n",
        "\n",
        "2.  Моделирование дискретных событий\n",
        "> Создаем объекты системы, подчиняющиеся определенным правилам, а затем активизируем их, чтобы посмотреть, как такая система будет эволюционировать с течением времени.\n",
        "\n",
        "3. Моделирование физических систем\n",
        "> Применяем физические законы, чтобы отслеживать поведение системы с течением времени."
      ],
      "metadata": {
        "id": "ZwgZL8vF1d3T"
      }
    },
    {
      "cell_type": "markdown",
      "source": [
        "Моделирование временных рядов — это важная аналитическая задача, примеры выполнения которой неоднократно рассматриваются в последующих главах при изучении конкретных моделей.\n"
      ],
      "metadata": {
        "id": "Yd0YLZZ02FTO"
      }
    },
    {
      "cell_type": "markdown",
      "source": [
        "# Особенности моделирования временных рядов\n",
        "\n",
        "Моделирование данных выступает разновидностью анализа данных, которому редко обучают, но который находит широкое применение при работе с временными рядами. Это следует из одного из недостатков временных данных: никакие две точки данных в одном и том же временном ряду не могут быть точно сопоставимыми, поскольку они относятся к разному времени. Как только мы задумаемся о том, что могло бы произойти в данный момент времени, сразу же перейдем в область моделирования. "
      ],
      "metadata": {
        "id": "GrvUkN3U3MSx"
      }
    },
    {
      "cell_type": "code",
      "source": [
        "Моделирование может описываться как простым, так и сложным процессами. "
      ],
      "metadata": {
        "id": "lXf-EJjb3qwK"
      },
      "execution_count": null,
      "outputs": []
    },
    {
      "cell_type": "markdown",
      "source": [
        "Моделирование временных рядов остается активной областью исследований (необычайно требовательной к производительности вычислительного оборудования) во многих отраслях и дисциплинах.\n",
        "\n",
        "*  Метеорология.\n",
        "*  Финансы.\n",
        "*  Эпидемиология.\n",
        "*  Квантовая химия.\n",
        "*  Физика плазмы.\n",
        "\n",
        "В некоторых из представленных случаев фундаментальные правила поведения системы хорошо изучены, но описать их бывает трудно из-за высокой сложности уравнений (например, в метеорологии, квантовой химии, физике плазмы). Кроме того, далеко не всегда в системе известны все исследуемые величины, а сделать точный прогноз не представляется возможным из-за стохастической нелинейной природы изучаемых процессов (например, в финансах и эпидемиологии).\n"
      ],
      "metadata": {
        "id": "iZumpt3h4Cle"
      }
    },
    {
      "cell_type": "markdown",
      "source": [
        "# Моделирование и прогнозирование\n",
        "\n",
        "Моделирование и прогнозирование — схожие задачи. В обоих случаях сначала нужно сформулировать гипотезу о параметрах и поведении базовой системы, а затем экстраполировать имеющиеся данные для получения новых точек. Наряду с этим нужно четко понимать различия между принципами моделирования и прогнозирования.\n"
      ],
      "metadata": {
        "id": "eezj-qVU4eg_"
      }
    },
    {
      "cell_type": "markdown",
      "source": [
        "*  Иногда качественные наблюдения проще обрабатывать методами моделирования, а не прогнозирования.\n",
        "*  Моделирование выполняется в определенном масштабе, что позволяет увидеть множество альтернативных сценариев, в то время как прогнозы составляются предельно точно.\n",
        "*  Моделирование — не такое рискованное занятие, как прогнозирование. Моделирование не влияет на события реальной жизни и не вызывает потерь важных ресурсов — в первых сеансах моделирования вы можете проявлять максимум фантазии и изобретательности. Конечно, рано или поздно вам захочется обосновать модель точно так же, так это делается в прогнозировании.\n"
      ],
      "metadata": {
        "id": "GUstJmTH5SiY"
      }
    },
    {
      "cell_type": "markdown",
      "source": [
        "# Моделирование с помощью программного кода\n",
        "\n",
        "Далее мы рассмотрим три примера программ моделирования временных рядов. Изучая их, постарайтесь понять, насколько большими могут быть наборы данных, используемые в качестве источников “временных рядов”, генерируемых в процессе моделирования."
      ],
      "metadata": {
        "id": "fzE96sWq5rJZ"
      }
    },
    {
      "cell_type": "markdown",
      "source": [
        "В этом разделе нам предстоит рассмотреть три следующих примера моделирования.\n",
        "\n",
        "*  Моделирование искусственного набора данных для проверки гипотезы о поведении членов организации, в частности о том, что их отношение к электронным письмам, полученным от благотворительной организации, коррелирует (или нет) с готовностью вносить благотворительные пожертвования. Это яркий пример жесткого генерирования исходных табличных данных и определения взаимосвязей между данными, устанавливаемых в программном коде с помощью циклов for и подобных им структур.\n",
        "* Моделирование синтезированного набора данных, используемого для изучения совокупного поведения водителей в таксопарке с учетом рабочего графика и количества перевозимых пассажиров в зависимости от времени суток. В этом наборе данных акцент делается на объектно-ориентированных атрибутах языка Python и генераторах, которые оказываются незаменимыми при тестировании и изучении поведения системы.\n",
        "* Моделирование физического поведения магнитного материала, заключающегося в переориентировании отдельных магнитных элементов, которые вначале пребывают в беспорядке, но в конечном итоге объединяются в хорошо упорядоченную систему. В этом примере показано, что принципы моделирования временных рядов могут основываться на физических законах, предопределяющих временной масштаб и другие характеристики модели.\n",
        "\n"
      ],
      "metadata": {
        "id": "bJfLkOeh6BFR"
      }
    },
    {
      "cell_type": "markdown",
      "source": [
        "# Самостоятельная работа\n",
        "\n",
        "При написании программы моделирования необходимо помнить о логических правилах, определяющих поведение системы. Ниже рассматривается пример программы, в которой выполняется жесткая проверка логической целостности данных (например, из системы исключаются события, которые противоречат ее логике).\n",
        "\n",
        "В начале кода проверяется состояние членства в организации — устанавливается количество членов благотворительной организации и моментов времени вступления в нее. Каждый из членов организации участника получает определенный статус.\n",
        "\n"
      ],
      "metadata": {
        "id": "NVO9-3kM6ZwV"
      }
    },
    {
      "cell_type": "code",
      "source": [
        " import numpy as np\n",
        " import pandas as pd\n",
        " ## Статус членов организации\n",
        "years = ['2014', '2015', '2016', '2017', '2018']\n",
        "print(years)"
      ],
      "metadata": {
        "colab": {
          "base_uri": "https://localhost:8080/"
        },
        "id": "CemVCTQj-SkH",
        "outputId": "39fd6e66-04fd-4b7f-ea4c-3240712a10c8"
      },
      "execution_count": 6,
      "outputs": [
        {
          "output_type": "stream",
          "name": "stdout",
          "text": [
            "['2014', '2015', '2016', '2017', '2018']\n"
          ]
        }
      ]
    },
    {
      "cell_type": "code",
      "source": [
        "memberstatus = ['bronze', 'silver', 'gold', 'inactive']\n",
        "print(memberstatus)"
      ],
      "metadata": {
        "colab": {
          "base_uri": "https://localhost:8080/"
        },
        "id": "TV20viQf_xQM",
        "outputId": "c6bd93d2-71ad-4ad5-c242-c2f2e09e2635"
      },
      "execution_count": 7,
      "outputs": [
        {
          "output_type": "stream",
          "name": "stdout",
          "text": [
            "['bronze', 'silver', 'gold', 'inactive']\n"
          ]
        }
      ]
    },
    {
      "cell_type": "code",
      "source": [
        "memberYears = np.random.choice (years, 1000, p = [0.1, 0.1, 0.15, 0.30, 0.35])\n",
        "print(memberYears)"
      ],
      "metadata": {
        "colab": {
          "base_uri": "https://localhost:8080/"
        },
        "id": "IUZ3neVX_zyM",
        "outputId": "29f54529-1a2c-4022-b1ef-088a8525d9d3"
      },
      "execution_count": 8,
      "outputs": [
        {
          "output_type": "stream",
          "name": "stdout",
          "text": [
            "['2018' '2017' '2014' '2017' '2017' '2017' '2014' '2018' '2017' '2018'\n",
            " '2017' '2018' '2017' '2016' '2018' '2018' '2016' '2014' '2017' '2017'\n",
            " '2017' '2018' '2018' '2017' '2016' '2017' '2015' '2018' '2018' '2018'\n",
            " '2018' '2015' '2015' '2017' '2015' '2016' '2018' '2018' '2018' '2017'\n",
            " '2018' '2016' '2017' '2014' '2017' '2017' '2014' '2018' '2017' '2018'\n",
            " '2017' '2014' '2017' '2015' '2017' '2017' '2018' '2016' '2016' '2018'\n",
            " '2018' '2015' '2018' '2016' '2014' '2018' '2014' '2017' '2018' '2017'\n",
            " '2015' '2018' '2016' '2018' '2017' '2017' '2017' '2017' '2017' '2018'\n",
            " '2014' '2016' '2018' '2014' '2018' '2018' '2014' '2018' '2016' '2018'\n",
            " '2018' '2017' '2017' '2018' '2017' '2017' '2018' '2018' '2017' '2017'\n",
            " '2016' '2017' '2017' '2018' '2014' '2017' '2015' '2015' '2016' '2018'\n",
            " '2017' '2014' '2018' '2018' '2016' '2017' '2018' '2018' '2018' '2018'\n",
            " '2016' '2018' '2018' '2018' '2018' '2018' '2017' '2016' '2018' '2018'\n",
            " '2016' '2018' '2018' '2015' '2018' '2018' '2016' '2017' '2018' '2017'\n",
            " '2017' '2018' '2015' '2016' '2017' '2018' '2014' '2017' '2018' '2016'\n",
            " '2016' '2017' '2016' '2016' '2016' '2014' '2016' '2016' '2017' '2017'\n",
            " '2017' '2018' '2016' '2017' '2017' '2018' '2018' '2017' '2014' '2018'\n",
            " '2017' '2014' '2017' '2016' '2018' '2018' '2015' '2015' '2017' '2017'\n",
            " '2018' '2014' '2014' '2016' '2014' '2017' '2016' '2018' '2015' '2018'\n",
            " '2018' '2014' '2017' '2017' '2018' '2018' '2016' '2018' '2014' '2018'\n",
            " '2018' '2015' '2018' '2017' '2018' '2017' '2014' '2018' '2017' '2017'\n",
            " '2014' '2018' '2014' '2015' '2016' '2018' '2017' '2014' '2015' '2017'\n",
            " '2016' '2015' '2015' '2017' '2018' '2016' '2014' '2015' '2016' '2018'\n",
            " '2018' '2015' '2016' '2017' '2017' '2018' '2018' '2015' '2017' '2016'\n",
            " '2014' '2014' '2018' '2016' '2015' '2016' '2018' '2016' '2017' '2017'\n",
            " '2017' '2018' '2017' '2018' '2015' '2018' '2018' '2018' '2018' '2017'\n",
            " '2014' '2018' '2018' '2017' '2016' '2017' '2015' '2015' '2016' '2018'\n",
            " '2017' '2014' '2015' '2018' '2018' '2018' '2015' '2017' '2017' '2018'\n",
            " '2017' '2017' '2018' '2017' '2018' '2016' '2017' '2018' '2018' '2018'\n",
            " '2017' '2018' '2018' '2017' '2017' '2018' '2018' '2017' '2017' '2016'\n",
            " '2016' '2017' '2017' '2017' '2018' '2018' '2018' '2017' '2018' '2018'\n",
            " '2018' '2014' '2018' '2015' '2018' '2018' '2014' '2018' '2017' '2018'\n",
            " '2014' '2016' '2016' '2015' '2018' '2018' '2017' '2017' '2018' '2017'\n",
            " '2018' '2018' '2017' '2017' '2018' '2017' '2016' '2018' '2016' '2014'\n",
            " '2018' '2018' '2016' '2018' '2018' '2017' '2018' '2017' '2015' '2018'\n",
            " '2014' '2018' '2017' '2018' '2018' '2016' '2015' '2017' '2017' '2017'\n",
            " '2014' '2016' '2017' '2017' '2015' '2017' '2018' '2014' '2018' '2018'\n",
            " '2016' '2015' '2016' '2018' '2018' '2018' '2018' '2018' '2018' '2014'\n",
            " '2015' '2018' '2018' '2017' '2016' '2018' '2016' '2014' '2016' '2015'\n",
            " '2018' '2018' '2018' '2017' '2014' '2018' '2017' '2017' '2017' '2014'\n",
            " '2017' '2015' '2014' '2018' '2015' '2018' '2018' '2018' '2017' '2014'\n",
            " '2018' '2014' '2018' '2017' '2018' '2018' '2018' '2014' '2016' '2016'\n",
            " '2017' '2017' '2018' '2017' '2017' '2017' '2014' '2016' '2014' '2016'\n",
            " '2015' '2018' '2018' '2017' '2018' '2018' '2014' '2017' '2016' '2017'\n",
            " '2018' '2016' '2018' '2018' '2017' '2017' '2015' '2017' '2014' '2017'\n",
            " '2017' '2018' '2016' '2017' '2015' '2014' '2017' '2015' '2014' '2016'\n",
            " '2017' '2018' '2018' '2017' '2018' '2016' '2015' '2014' '2015' '2014'\n",
            " '2014' '2014' '2018' '2018' '2018' '2014' '2017' '2016' '2014' '2017'\n",
            " '2016' '2018' '2018' '2016' '2018' '2018' '2018' '2017' '2018' '2018'\n",
            " '2014' '2015' '2018' '2017' '2017' '2017' '2017' '2018' '2016' '2016'\n",
            " '2014' '2014' '2014' '2015' '2015' '2015' '2016' '2014' '2018' '2018'\n",
            " '2015' '2017' '2018' '2017' '2017' '2016' '2015' '2018' '2016' '2018'\n",
            " '2017' '2018' '2018' '2017' '2017' '2015' '2015' '2015' '2014' '2018'\n",
            " '2016' '2017' '2018' '2018' '2016' '2016' '2018' '2018' '2018' '2016'\n",
            " '2017' '2017' '2016' '2014' '2018' '2016' '2016' '2018' '2016' '2016'\n",
            " '2017' '2018' '2017' '2017' '2016' '2018' '2017' '2017' '2018' '2018'\n",
            " '2014' '2018' '2018' '2014' '2018' '2018' '2016' '2014' '2017' '2017'\n",
            " '2016' '2018' '2018' '2016' '2014' '2018' '2018' '2014' '2018' '2014'\n",
            " '2018' '2018' '2015' '2018' '2016' '2018' '2014' '2017' '2018' '2017'\n",
            " '2018' '2016' '2014' '2015' '2014' '2018' '2015' '2016' '2017' '2017'\n",
            " '2014' '2017' '2017' '2017' '2018' '2018' '2015' '2017' '2018' '2015'\n",
            " '2018' '2018' '2018' '2018' '2017' '2016' '2015' '2017' '2016' '2018'\n",
            " '2014' '2016' '2016' '2018' '2017' '2017' '2018' '2014' '2018' '2016'\n",
            " '2018' '2016' '2018' '2018' '2016' '2016' '2014' '2017' '2018' '2014'\n",
            " '2015' '2018' '2018' '2017' '2015' '2014' '2015' '2018' '2017' '2018'\n",
            " '2018' '2018' '2017' '2018' '2017' '2018' '2017' '2014' '2017' '2016'\n",
            " '2014' '2017' '2017' '2015' '2018' '2017' '2017' '2017' '2018' '2017'\n",
            " '2018' '2018' '2016' '2018' '2018' '2017' '2018' '2018' '2017' '2017'\n",
            " '2017' '2018' '2017' '2016' '2017' '2017' '2018' '2018' '2018' '2017'\n",
            " '2018' '2018' '2017' '2018' '2016' '2017' '2018' '2015' '2017' '2018'\n",
            " '2017' '2016' '2017' '2017' '2016' '2016' '2016' '2017' '2017' '2018'\n",
            " '2014' '2017' '2016' '2017' '2017' '2018' '2017' '2017' '2015' '2018'\n",
            " '2018' '2018' '2016' '2017' '2018' '2015' '2018' '2014' '2018' '2017'\n",
            " '2014' '2016' '2017' '2016' '2017' '2017' '2014' '2016' '2016' '2017'\n",
            " '2017' '2018' '2016' '2014' '2016' '2017' '2016' '2017' '2014' '2016'\n",
            " '2017' '2016' '2015' '2014' '2018' '2016' '2015' '2018' '2018' '2016'\n",
            " '2017' '2016' '2018' '2014' '2018' '2016' '2018' '2015' '2015' '2016'\n",
            " '2015' '2017' '2014' '2016' '2016' '2017' '2017' '2017' '2016' '2017'\n",
            " '2017' '2017' '2018' '2014' '2016' '2018' '2016' '2017' '2016' '2018'\n",
            " '2017' '2014' '2014' '2016' '2017' '2017' '2017' '2018' '2017' '2017'\n",
            " '2017' '2016' '2018' '2018' '2018' '2018' '2017' '2015' '2018' '2017'\n",
            " '2017' '2018' '2016' '2017' '2016' '2017' '2017' '2015' '2016' '2017'\n",
            " '2016' '2017' '2017' '2018' '2017' '2017' '2018' '2018' '2018' '2018'\n",
            " '2017' '2016' '2015' '2016' '2018' '2017' '2018' '2014' '2018' '2018'\n",
            " '2014' '2017' '2018' '2017' '2018' '2015' '2014' '2017' '2017' '2017'\n",
            " '2015' '2014' '2017' '2018' '2018' '2018' '2018' '2017' '2015' '2017'\n",
            " '2017' '2018' '2018' '2018' '2016' '2017' '2017' '2016' '2018' '2017'\n",
            " '2015' '2014' '2017' '2016' '2018' '2015' '2018' '2018' '2017' '2017'\n",
            " '2016' '2018' '2018' '2018' '2015' '2018' '2018' '2015' '2018' '2017'\n",
            " '2015' '2018' '2018' '2018' '2015' '2015' '2017' '2016' '2016' '2017'\n",
            " '2014' '2017' '2017' '2017' '2014' '2017' '2016' '2016' '2017' '2018'\n",
            " '2018' '2017' '2017' '2017' '2018' '2018' '2015' '2017' '2015' '2017'\n",
            " '2017' '2018' '2017' '2018' '2014' '2016' '2015' '2018' '2016' '2018'\n",
            " '2018' '2017' '2018' '2018' '2018' '2017' '2016' '2017' '2014' '2014'\n",
            " '2017' '2017' '2018' '2017' '2018' '2018' '2015' '2017' '2016' '2018'\n",
            " '2016' '2015' '2016' '2017' '2018' '2018' '2016' '2018' '2018' '2018'\n",
            " '2016' '2018' '2018' '2014' '2014' '2016' '2017' '2017' '2017' '2018'\n",
            " '2014' '2018' '2017' '2017' '2017' '2017' '2018' '2018' '2014' '2018'\n",
            " '2018' '2015' '2016' '2018' '2018' '2017' '2017' '2015' '2017' '2018'\n",
            " '2018' '2018' '2017' '2015' '2017' '2017' '2016' '2017' '2014' '2018']\n"
          ]
        }
      ]
    },
    {
      "cell_type": "code",
      "source": [
        "\n",
        "memberStats = np.random.choice(memberstatus, 1000, p = [0.5, 0.3, 0.1, 0.1])\n",
        "print(memberStats)"
      ],
      "metadata": {
        "colab": {
          "base_uri": "https://localhost:8080/"
        },
        "id": "8ZmGkmGg_6_F",
        "outputId": "6ecb072b-1d67-4271-ad4b-6af6cd7fb54c"
      },
      "execution_count": 9,
      "outputs": [
        {
          "output_type": "stream",
          "name": "stdout",
          "text": [
            "['bronze' 'bronze' 'silver' 'bronze' 'silver' 'bronze' 'bronze' 'silver'\n",
            " 'silver' 'silver' 'bronze' 'bronze' 'silver' 'bronze' 'bronze' 'silver'\n",
            " 'silver' 'bronze' 'bronze' 'gold' 'silver' 'bronze' 'bronze' 'bronze'\n",
            " 'bronze' 'inactive' 'bronze' 'bronze' 'gold' 'gold' 'bronze' 'bronze'\n",
            " 'inactive' 'inactive' 'silver' 'bronze' 'bronze' 'silver' 'silver'\n",
            " 'bronze' 'silver' 'silver' 'bronze' 'silver' 'silver' 'bronze' 'gold'\n",
            " 'bronze' 'bronze' 'gold' 'bronze' 'silver' 'silver' 'bronze' 'silver'\n",
            " 'bronze' 'bronze' 'gold' 'gold' 'bronze' 'silver' 'inactive' 'silver'\n",
            " 'bronze' 'gold' 'silver' 'silver' 'bronze' 'bronze' 'gold' 'bronze'\n",
            " 'bronze' 'silver' 'bronze' 'inactive' 'silver' 'bronze' 'bronze'\n",
            " 'inactive' 'bronze' 'bronze' 'inactive' 'silver' 'bronze' 'bronze'\n",
            " 'silver' 'bronze' 'gold' 'bronze' 'bronze' 'bronze' 'inactive' 'gold'\n",
            " 'silver' 'bronze' 'silver' 'inactive' 'silver' 'bronze' 'inactive'\n",
            " 'silver' 'bronze' 'bronze' 'silver' 'silver' 'gold' 'bronze' 'bronze'\n",
            " 'inactive' 'silver' 'silver' 'inactive' 'silver' 'gold' 'inactive'\n",
            " 'silver' 'gold' 'bronze' 'silver' 'bronze' 'gold' 'bronze' 'bronze'\n",
            " 'bronze' 'silver' 'silver' 'silver' 'bronze' 'silver' 'silver' 'bronze'\n",
            " 'silver' 'bronze' 'bronze' 'bronze' 'silver' 'bronze' 'bronze' 'gold'\n",
            " 'silver' 'bronze' 'gold' 'bronze' 'bronze' 'silver' 'silver' 'bronze'\n",
            " 'bronze' 'gold' 'silver' 'bronze' 'silver' 'bronze' 'bronze' 'gold'\n",
            " 'bronze' 'bronze' 'silver' 'bronze' 'bronze' 'bronze' 'silver' 'bronze'\n",
            " 'silver' 'bronze' 'gold' 'silver' 'bronze' 'bronze' 'bronze' 'bronze'\n",
            " 'silver' 'gold' 'bronze' 'bronze' 'bronze' 'bronze' 'bronze' 'bronze'\n",
            " 'silver' 'bronze' 'gold' 'bronze' 'bronze' 'silver' 'bronze' 'silver'\n",
            " 'bronze' 'bronze' 'bronze' 'bronze' 'bronze' 'bronze' 'inactive' 'silver'\n",
            " 'bronze' 'bronze' 'bronze' 'silver' 'bronze' 'silver' 'silver' 'bronze'\n",
            " 'bronze' 'bronze' 'bronze' 'silver' 'silver' 'bronze' 'inactive' 'silver'\n",
            " 'silver' 'silver' 'bronze' 'inactive' 'bronze' 'inactive' 'silver'\n",
            " 'bronze' 'silver' 'bronze' 'gold' 'bronze' 'silver' 'bronze' 'gold'\n",
            " 'bronze' 'bronze' 'silver' 'silver' 'silver' 'silver' 'silver' 'gold'\n",
            " 'silver' 'bronze' 'bronze' 'inactive' 'bronze' 'bronze' 'bronze' 'bronze'\n",
            " 'bronze' 'silver' 'silver' 'bronze' 'inactive' 'bronze' 'bronze' 'silver'\n",
            " 'silver' 'bronze' 'bronze' 'silver' 'gold' 'bronze' 'bronze' 'silver'\n",
            " 'bronze' 'silver' 'bronze' 'bronze' 'bronze' 'bronze' 'bronze' 'silver'\n",
            " 'gold' 'inactive' 'bronze' 'bronze' 'bronze' 'bronze' 'gold' 'silver'\n",
            " 'bronze' 'bronze' 'bronze' 'bronze' 'bronze' 'silver' 'inactive'\n",
            " 'inactive' 'bronze' 'bronze' 'bronze' 'inactive' 'silver' 'bronze'\n",
            " 'silver' 'silver' 'silver' 'bronze' 'gold' 'bronze' 'bronze' 'bronze'\n",
            " 'silver' 'bronze' 'bronze' 'bronze' 'bronze' 'bronze' 'bronze' 'bronze'\n",
            " 'bronze' 'bronze' 'silver' 'bronze' 'silver' 'silver' 'gold' 'bronze'\n",
            " 'bronze' 'inactive' 'gold' 'bronze' 'bronze' 'bronze' 'bronze' 'inactive'\n",
            " 'silver' 'silver' 'silver' 'bronze' 'bronze' 'silver' 'silver' 'bronze'\n",
            " 'inactive' 'bronze' 'bronze' 'bronze' 'gold' 'gold' 'silver' 'bronze'\n",
            " 'bronze' 'inactive' 'bronze' 'bronze' 'bronze' 'bronze' 'gold' 'inactive'\n",
            " 'bronze' 'bronze' 'bronze' 'bronze' 'bronze' 'bronze' 'bronze' 'bronze'\n",
            " 'silver' 'bronze' 'gold' 'bronze' 'bronze' 'gold' 'silver' 'silver'\n",
            " 'silver' 'bronze' 'bronze' 'silver' 'bronze' 'bronze' 'silver' 'bronze'\n",
            " 'gold' 'gold' 'bronze' 'bronze' 'silver' 'silver' 'gold' 'bronze'\n",
            " 'bronze' 'silver' 'bronze' 'bronze' 'bronze' 'silver' 'bronze' 'bronze'\n",
            " 'bronze' 'inactive' 'gold' 'bronze' 'bronze' 'bronze' 'bronze' 'silver'\n",
            " 'bronze' 'silver' 'gold' 'inactive' 'bronze' 'bronze' 'gold' 'bronze'\n",
            " 'bronze' 'silver' 'bronze' 'inactive' 'bronze' 'silver' 'bronze' 'silver'\n",
            " 'silver' 'bronze' 'silver' 'silver' 'gold' 'bronze' 'silver' 'bronze'\n",
            " 'silver' 'silver' 'bronze' 'bronze' 'silver' 'gold' 'bronze' 'bronze'\n",
            " 'bronze' 'silver' 'inactive' 'gold' 'bronze' 'bronze' 'bronze' 'silver'\n",
            " 'bronze' 'bronze' 'gold' 'silver' 'bronze' 'gold' 'bronze' 'silver'\n",
            " 'inactive' 'bronze' 'gold' 'gold' 'bronze' 'silver' 'bronze' 'gold'\n",
            " 'gold' 'gold' 'silver' 'gold' 'bronze' 'silver' 'inactive' 'gold'\n",
            " 'bronze' 'inactive' 'bronze' 'bronze' 'bronze' 'bronze' 'silver' 'bronze'\n",
            " 'inactive' 'gold' 'bronze' 'silver' 'bronze' 'inactive' 'bronze' 'silver'\n",
            " 'bronze' 'bronze' 'inactive' 'silver' 'silver' 'bronze' 'silver' 'silver'\n",
            " 'gold' 'bronze' 'gold' 'gold' 'silver' 'inactive' 'bronze' 'silver'\n",
            " 'bronze' 'silver' 'gold' 'silver' 'silver' 'silver' 'bronze' 'silver'\n",
            " 'bronze' 'gold' 'bronze' 'silver' 'gold' 'bronze' 'gold' 'inactive'\n",
            " 'gold' 'bronze' 'bronze' 'gold' 'bronze' 'bronze' 'silver' 'inactive'\n",
            " 'gold' 'bronze' 'inactive' 'bronze' 'silver' 'bronze' 'silver' 'bronze'\n",
            " 'bronze' 'bronze' 'bronze' 'silver' 'bronze' 'silver' 'bronze' 'bronze'\n",
            " 'bronze' 'silver' 'silver' 'gold' 'inactive' 'bronze' 'bronze' 'silver'\n",
            " 'silver' 'bronze' 'gold' 'bronze' 'bronze' 'inactive' 'silver' 'bronze'\n",
            " 'bronze' 'silver' 'silver' 'silver' 'bronze' 'silver' 'bronze' 'silver'\n",
            " 'silver' 'silver' 'silver' 'bronze' 'silver' 'inactive' 'bronze' 'bronze'\n",
            " 'bronze' 'bronze' 'bronze' 'silver' 'silver' 'silver' 'bronze' 'bronze'\n",
            " 'bronze' 'bronze' 'inactive' 'gold' 'silver' 'gold' 'gold' 'silver'\n",
            " 'bronze' 'bronze' 'silver' 'silver' 'silver' 'silver' 'silver' 'gold'\n",
            " 'silver' 'bronze' 'silver' 'silver' 'inactive' 'silver' 'silver'\n",
            " 'inactive' 'bronze' 'silver' 'inactive' 'bronze' 'bronze' 'bronze' 'gold'\n",
            " 'silver' 'gold' 'silver' 'bronze' 'bronze' 'bronze' 'gold' 'bronze'\n",
            " 'inactive' 'bronze' 'gold' 'gold' 'bronze' 'bronze' 'bronze' 'bronze'\n",
            " 'bronze' 'gold' 'inactive' 'bronze' 'bronze' 'bronze' 'gold' 'silver'\n",
            " 'silver' 'silver' 'inactive' 'bronze' 'inactive' 'bronze' 'bronze'\n",
            " 'bronze' 'bronze' 'bronze' 'gold' 'gold' 'bronze' 'bronze' 'bronze'\n",
            " 'bronze' 'bronze' 'silver' 'gold' 'gold' 'silver' 'gold' 'silver'\n",
            " 'inactive' 'bronze' 'silver' 'silver' 'bronze' 'gold' 'silver' 'bronze'\n",
            " 'bronze' 'bronze' 'bronze' 'bronze' 'silver' 'silver' 'silver' 'bronze'\n",
            " 'silver' 'silver' 'bronze' 'bronze' 'gold' 'bronze' 'silver' 'bronze'\n",
            " 'silver' 'silver' 'bronze' 'silver' 'bronze' 'silver' 'gold' 'silver'\n",
            " 'silver' 'bronze' 'gold' 'bronze' 'bronze' 'silver' 'silver' 'bronze'\n",
            " 'bronze' 'bronze' 'bronze' 'bronze' 'bronze' 'bronze' 'bronze' 'bronze'\n",
            " 'silver' 'bronze' 'silver' 'bronze' 'silver' 'bronze' 'silver' 'inactive'\n",
            " 'bronze' 'silver' 'bronze' 'silver' 'inactive' 'silver' 'bronze' 'silver'\n",
            " 'bronze' 'silver' 'silver' 'bronze' 'bronze' 'bronze' 'bronze' 'bronze'\n",
            " 'gold' 'bronze' 'inactive' 'inactive' 'silver' 'bronze' 'bronze' 'bronze'\n",
            " 'bronze' 'bronze' 'bronze' 'silver' 'inactive' 'bronze' 'silver' 'gold'\n",
            " 'bronze' 'gold' 'inactive' 'silver' 'bronze' 'silver' 'silver' 'bronze'\n",
            " 'bronze' 'gold' 'silver' 'inactive' 'bronze' 'inactive' 'gold' 'gold'\n",
            " 'gold' 'bronze' 'silver' 'bronze' 'bronze' 'bronze' 'bronze' 'bronze'\n",
            " 'bronze' 'silver' 'silver' 'bronze' 'bronze' 'silver' 'inactive' 'bronze'\n",
            " 'bronze' 'gold' 'silver' 'bronze' 'bronze' 'bronze' 'bronze' 'bronze'\n",
            " 'bronze' 'silver' 'silver' 'bronze' 'bronze' 'bronze' 'silver' 'silver'\n",
            " 'silver' 'bronze' 'bronze' 'gold' 'inactive' 'silver' 'silver' 'inactive'\n",
            " 'silver' 'silver' 'inactive' 'silver' 'bronze' 'gold' 'bronze' 'silver'\n",
            " 'silver' 'bronze' 'inactive' 'bronze' 'silver' 'bronze' 'bronze' 'silver'\n",
            " 'bronze' 'bronze' 'bronze' 'bronze' 'bronze' 'silver' 'gold' 'bronze'\n",
            " 'silver' 'bronze' 'gold' 'bronze' 'bronze' 'gold' 'gold' 'gold' 'silver'\n",
            " 'silver' 'bronze' 'bronze' 'bronze' 'silver' 'silver' 'silver' 'bronze'\n",
            " 'gold' 'silver' 'bronze' 'bronze' 'bronze' 'silver' 'gold' 'bronze'\n",
            " 'inactive' 'bronze' 'inactive' 'gold' 'bronze' 'bronze' 'gold' 'bronze'\n",
            " 'bronze' 'bronze' 'bronze' 'bronze' 'inactive' 'silver' 'bronze' 'bronze'\n",
            " 'inactive' 'silver' 'bronze' 'inactive' 'silver' 'bronze' 'bronze' 'gold'\n",
            " 'bronze' 'silver' 'bronze' 'bronze' 'gold' 'bronze' 'silver' 'silver'\n",
            " 'bronze' 'bronze' 'bronze' 'inactive' 'silver' 'gold' 'bronze' 'bronze'\n",
            " 'bronze' 'bronze' 'inactive' 'bronze' 'bronze' 'bronze' 'bronze' 'silver'\n",
            " 'bronze' 'bronze' 'bronze' 'silver' 'gold' 'inactive' 'bronze' 'bronze'\n",
            " 'bronze' 'silver' 'bronze' 'bronze' 'gold' 'silver' 'bronze' 'bronze'\n",
            " 'silver' 'bronze' 'bronze' 'silver' 'bronze' 'silver' 'bronze' 'gold'\n",
            " 'inactive' 'bronze' 'bronze' 'silver' 'silver' 'bronze' 'bronze' 'silver'\n",
            " 'bronze' 'bronze' 'silver' 'silver' 'bronze' 'bronze' 'bronze' 'bronze'\n",
            " 'silver' 'silver' 'bronze' 'gold' 'bronze' 'bronze' 'bronze' 'bronze'\n",
            " 'silver' 'bronze' 'bronze' 'gold' 'bronze' 'silver' 'bronze' 'bronze'\n",
            " 'bronze' 'bronze' 'silver' 'silver' 'silver' 'bronze' 'gold' 'silver'\n",
            " 'inactive' 'bronze' 'bronze' 'bronze' 'silver' 'silver' 'bronze' 'silver'\n",
            " 'bronze' 'bronze' 'bronze' 'bronze' 'bronze' 'bronze' 'gold' 'gold'\n",
            " 'bronze' 'bronze' 'silver' 'bronze' 'silver' 'gold' 'silver' 'bronze'\n",
            " 'inactive' 'silver' 'inactive' 'bronze' 'bronze' 'bronze' 'bronze'\n",
            " 'silver' 'silver' 'gold' 'bronze' 'gold' 'silver' 'bronze' 'silver'\n",
            " 'bronze' 'gold' 'silver' 'bronze' 'silver' 'bronze' 'gold' 'silver'\n",
            " 'inactive' 'gold']\n"
          ]
        }
      ]
    },
    {
      "cell_type": "code",
      "source": [
        "yearJoined = pd.DataFrame({'yearJoined': memberYears, 'memberStats': memberStats})\n",
        "print(yearJoined)"
      ],
      "metadata": {
        "colab": {
          "base_uri": "https://localhost:8080/"
        },
        "id": "IGjHmq_L_-35",
        "outputId": "fa5db8cd-d43a-4d30-85bf-244f76d87f76"
      },
      "execution_count": 10,
      "outputs": [
        {
          "output_type": "stream",
          "name": "stdout",
          "text": [
            "    yearJoined memberStats\n",
            "0         2018      bronze\n",
            "1         2017      bronze\n",
            "2         2014      silver\n",
            "3         2017      bronze\n",
            "4         2017      silver\n",
            "..         ...         ...\n",
            "995       2017      bronze\n",
            "996       2016        gold\n",
            "997       2017      silver\n",
            "998       2014    inactive\n",
            "999       2018        gold\n",
            "\n",
            "[1000 rows x 2 columns]\n"
          ]
        }
      ]
    },
    {
      "cell_type": "markdown",
      "source": [
        "В приведенных выше строках кода сделано несколько предположений и реализовано несколько важных правил моделирования процесса. В них задаются вероятности вступления в организацию в каждом анализируемом году. Кроме того, здесь предполагается, что статус члена организации никак не связан с годом вступления в организацию. В реальном мире ситуация выглядит несколько иначе — более точным будет предположение о существовании слабой связи между этими переменными, особенно в случаях заинтересованности организации в сохранении своих членов. "
      ],
      "metadata": {
        "id": "95cCyxQy-PFq"
      }
    },
    {
      "cell_type": "markdown",
      "source": [
        "Далее в коде создается таблица со сведениями об открытии электронных писем членами организации в течение каждой недели. В данном случае считается, что организации свойственно следующее поведение: рассылка всем членам по три электронных письма в неделю. Кроме того, в коде определяются возможные поведенческие реакции членов организации на получение почтовых сообщений.\n",
        "\n",
        "*  Никогда не открывает электронную почту\n",
        "*  Максимальный уровень взаимодействия (постоянно открывает электронную почту)\n",
        "*  Увеличение или уменьшение уровня взаимодействия"
      ],
      "metadata": {
        "id": "dqu2EBE6AYxu"
      }
    },
    {
      "cell_type": "markdown",
      "source": [
        "Мы можем усложнить поведенческие правила, корректируя отдельные параметры модели в зависимости от принятия старых или создания новых предположений о ненаблюдаемых процессах, влияющих на данные."
      ],
      "metadata": {
        "id": "2rw6EcUtAh9C"
      }
    },
    {
      "cell_type": "code",
      "source": [
        "## Python\n",
        "NUM_EMAILS_SENT_WEEKLY = 3\n",
        "## Определение функций для разных поведенческих шаблонов\n",
        "\n",
        "def never_opens(period_rng): \n",
        "  return []\n",
        "\t\t\t\t\t\n",
        "def constant_open_rate(period_rng): \n",
        "  n, p = NUM_EMAILS_SENT_WEEKLY, np.random.uniform(0, 1) \n",
        "  num_opened = np.random.binomial(n, p, len(period_rng)) \n",
        "  return num_opened\n",
        "\t\t\t\t\t\n",
        "def increasing_open_rate(period_rng): \n",
        "  return open_rate_with_factor_change(period_rng,\t\t\t\t\n",
        "                                      np.random.uniform(1.01, \n",
        "                                      1.30))\n",
        "\t\t\t\t\t\n",
        "def decreasing_open_rate(period_rng): \n",
        "  return open_rate_with_factor_change(period_rng,\n",
        "                                      np.random.uniform(0.5, \n",
        "                                      0.99))\n",
        "\t\t\t\t\n",
        "def open_rate_with_factor_change(period_rng, fac): \n",
        "    if len(period_rng) < 1 :\t\n",
        "       return []\n",
        "    times = np.random.randint(0, len(period_rng),\n",
        "                               int(0.1 * len(period_rng))) \n",
        "    num_opened = np.zeros(len(period_rng))\n",
        "    for prd in range(0, len(period_rng), 2): \n",
        "        try:\n",
        "            n, p = NUM_EMAILS_SENT_WEEKLY, np.random.uniform(0, \n",
        "                                                             1)\n",
        "            num_opened[prd:(prd + 2)] = np.random.binomial(n, p, \n",
        "                                                           2)\n",
        "            p = max(min(1, p * fac), 0)\n",
        "        except:\t\n",
        "            num_opened[prd] = np.random.binomial(n, p, 1)\n",
        "    for t in range(len(times)):\n",
        "        num_opened[times[t]] = 0\n",
        "    return num_opened "
      ],
      "metadata": {
        "id": "vh8CFoyeAj3h"
      },
      "execution_count": 12,
      "outputs": []
    },
    {
      "cell_type": "markdown",
      "source": [
        "Выше определены функции моделирования четырех различных типов поведения.\n",
        "Пользователи, никогда не открывающие отправленные им электронные письма\n",
        "\n",
        "never_opens()\n",
        "\n",
        "Пользователи, открывающие примерно одинаковое количество писем каждую неделю\n",
        "\n",
        "constant_open_rate()\n",
        "\n",
        "Пользователи, открывающие меньшее количество электронных писем каждую неделю\n",
        "\n",
        "decreasing_open_rate()\n",
        "\n",
        "Пользователи, открывающие большее количество электронных писем каждую неделю\n",
        "\n",
        "increasing_open_rate()\n"
      ],
      "metadata": {
        "id": "S23c-MFsBgVs"
      }
    },
    {
      "cell_type": "markdown",
      "source": [
        "Поведение членов организации, которые с течением времени становятся более активными или, наоборот, более пассивными, описывается подобным образом с помощью функции open_rate_with_factor_change (), основанной на функциях increasing_open_rate() и decreasing_open_rate(). \n",
        "\n",
        "Далее нам нужно определиться с моделью внесения добровольных пожертвований. Она не должна быть слишком простой, иначе это приведет к неправильному пониманию описываемых процессов. Другими словами, в модель внесения пожертвований нужно включить текущие предположения о поведении членов организации, а затем проверить, соответствуют ли они модели и наблюдениям, представленным реальными данными. Ниже приведен код описания процесса внесения пожертвований, находящегося в слабой зависимости от количества писем, открываемых членом организации в течение недели.\n"
      ],
      "metadata": {
        "id": "0dh2kZs0Bqqk"
      }
    },
    {
      "cell_type": "code",
      "source": [
        "## Python\n",
        "## Внесение пожертвований\n",
        "def produce_donations(period_rng, member_behavior, num_emails, \n",
        "                      use_id, member_join_year):\n",
        "    donation_amounts = np.array([0, 25, 50, 75, 100, 250, 500, \n",
        "                                 1000, 1500, 2000])\n",
        "    member_has = np.random.choice(donation_amounts)\n",
        "    email_fraction = num_emails / (NUM_EMAILS_SENT_WEEKLY * len(period_rng)) \n",
        "    member_gives = member_has * email_fraction\n",
        "    member_gives_idx = np.where(member_gives >= donation_amounts)[0][-1]\n",
        "    member_gives_idx = max(min(member_gives_idx,\n",
        "                               len(donation_amounts) - 2),\n",
        "                           1)\n",
        "    num_times_gave = np.random.poisson(2) * (2018 - member_join_year)\n",
        "    times = np.random.randint(0, len(period_rng), num_times_gave)\n",
        "    dons = pd.DataFrame({'member'   : [],\n",
        "                         'amount'   : [],\n",
        "                         'timestamp': []})\n",
        "\t\t\t\t\t\n",
        "    for n in range(num_times_gave):\n",
        "        donation = donation_amounts[member_gives_idx + np.random.binomial(1, .3)]\n",
        "        ts = str(period_rng[times[n]].start_time + random_weekly_time_delta())\n",
        "        dons = dons.append(pd.DataFrame(\n",
        "                  {'member' :[use_id],\n",
        "                   'amount' :[donation],\n",
        "                   'timestamp': [ts]}))\n",
        "\n",
        "        if dons.shape[0] > 0:\n",
        "            dons = dons[dons.amount != 0]\n",
        "            ## быть записанным в реальной базе данных\n",
        "           ## Если сумма пожертвования равна нулю, она не будет сообщена.\n",
        "             ## При работе с реальным миром эта информация не отражается в базе данных.\n",
        "    \n",
        "            return dons"
      ],
      "metadata": {
        "id": "6d1zWm9EB5lS"
      },
      "execution_count": 13,
      "outputs": []
    },
    {
      "cell_type": "markdown",
      "source": [
        "Чтобы сделать модель более реалистичной, в коде реализуются следующие важные предположения.\n",
        "*  Общая сумма пожертвований зависит от общего срока членства в организации.\n",
        "*  Каждому из членов организации назначается уровень благосостояния, с помощью которого обыгрывается предположение о том, что сумма денежного взноса напрямую зависит от суммы, которую человек готов выделить на добровольные пожертвования.\n",
        "\n",
        "Поскольку поведение наших участников строго фиксируется по временным меткам, каждому члену организации нужно определить неделю и день внесения пожертвований. Напишем вспомогательную функцию выбора случайного времени в течение недели.\n"
      ],
      "metadata": {
        "id": "peghVSsfCS3C"
      }
    },
    {
      "cell_type": "code",
      "source": [
        "def random_weekly_time_delta():\n",
        "    days_of_week = [d for d in range(7)]\n",
        "    hours_of_day = [h for h in range(11, 23)] \n",
        "    minute_of_hour = [m for m in range(60)] \n",
        "    second_of_minute = [s for s in range(60)]\n",
        "    return pd.Timedelta(str(np.random.choice(days_of_week)) + \" days\" ) + pd.Timedelta(str(np.random.choice(hours_of_day)) + \" hours\" ) + pd.Timedelta(str(np.random.choice(minute_of_hour)) + \" minutes\") + pd.Timedelta(str(np.random.choice(second_of_minute)) + \" seconds\") "
      ],
      "metadata": {
        "id": "ahKVJKGOCbQw"
      },
      "execution_count": 14,
      "outputs": []
    },
    {
      "cell_type": "markdown",
      "source": [
        "Легко заметить, что в приведенном выше коде обрабатываются только часы временной метки в диапазоне от 11 до 23 (hours_of_day = [h for h in range (11, 23) ]). Предполагается, что все члены организации проживают в смежных часовых поясах или даже в общем часовом поясе, поэтому мы не обрабатываем часы вне указанного диапазона. Таким способом мы заметно ограничиваем базовую модель поведения пользователей. \n",
        "\n",
        "Итак, мы ожидаем увидеть унифицированное поведение наших пользователей, как если бы они все находились в одном или нескольких смежных часовых поясах. Кроме того, считается, что людям свойственно переводить пожертвования в дневное время — с позднего утра до позднего вечера, но не ночью и не ранним утром, сразу же после пробуждения.\n",
        "\n",
        "Наконец, нам нужно объединить все компоненты модели и смоделировать поведение определенного количества членов организации и соответствующих событий, возникающих только вследствие получения членства в организации, таким образом, чтобы обеспечить некоторое (но не пренебрежимо малое) влияние событий просмотра электронной почты на события внесения пожертвований.\n"
      ],
      "metadata": {
        "id": "bCEfshdmCigo"
      }
    },
    {
      "cell_type": "code",
      "execution_count": 15,
      "metadata": {
        "id": "HlnngkuJ0wz6"
      },
      "outputs": [],
      "source": [
        "behaviors        = [never_opens, \n",
        "                    constant_open_rate, \n",
        "                    increasing_open_rate, \n",
        "                    decreasing_open_rate] \n",
        "member_behaviors = np.random.choice(behaviors, 1000,\n",
        "                                    [0.2, 0.5, 0.1, 0.2]) \n",
        "\t\t\t\t\n",
        "rng = pd.period_range('2015-02-14', '2018-06-01', freq = 'W')\n",
        "emails = pd.DataFrame({'member'      : [],\n",
        "                       'week'        : [],\n",
        "                       'emailsOpened': []})\t\n",
        "donations = pd.DataFrame({'member'   : [],\n",
        "                          'amount'   : [],\n",
        "                          'tunestamp': []})\t\n",
        "\t\t\t\t\t\n",
        "for idx in range(yearJoined.shape[0]):\n",
        " ## случайным образом сгенерировать дату, когда участник должен был присоединиться\n",
        "     ## Генерировать случайным образом, когда участник присоединился\n",
        "    join_date = pd.Timestamp(yearJoined.iloc[idx].yearJoined) + pd.Timedelta(str(np.random.randint(0, 365)) + ' days')\n",
        "    join_date = min(join_date, pd.Timestamp('2018-06-01')).to_period(freq='W')\n",
        "\n",
        "  ## участник не должен иметь отметки времени действия перед присоединением\n",
        "     ## У вас не должно быть временных меток для каких-либо действий перед присоединением\n",
        "    member_rng = rng[rng > join_date] \n",
        "\n",
        "    if len(member_rng) < 1:\n",
        "        continue\n",
        "\n",
        "    info = member_behaviors[idx](member_rng) \n",
        "    if len(info) == len(member_rng):\n",
        "        emails = emails.append(pd.DataFrame(\n",
        "           {'member': [idx] * len(info),\n",
        "            'week': [str(r.start_time) for r in member_rng],\n",
        "            'emailsOpened': info})) \n",
        "        donations = donations.append(\n",
        "           produce_donations(member_rng, member_behaviors[idx], \n",
        "                                sum(info), idx, join_date.year)) "
      ]
    },
    {
      "cell_type": "markdown",
      "source": [
        "Теперь нужно изучить временное поведение доноров, чтобы понять, как можно использовать эту информацию в дальнейшем анализе или прогнозировании. Отобразим общую сумму ежемесячных добровольных пожертвований, вычисленных из набора данных"
      ],
      "metadata": {
        "id": "SaKPmvG6C_0y"
      }
    },
    {
      "cell_type": "code",
      "source": [
        "rng = pd.period_range('2015-02-14', '2018-06-01', freq = 'W')"
      ],
      "metadata": {
        "id": "uPI69X5nDJho"
      },
      "execution_count": 16,
      "outputs": []
    },
    {
      "cell_type": "code",
      "source": [
        "donations.set_index(pd.to_datetime(donations.timestamp), inplace = True) \n",
        "donations.sort_index(inplace = True)\n",
        "donations.groupby(pd.Grouper(freq='M')).amount.sum().plot() "
      ],
      "metadata": {
        "colab": {
          "base_uri": "https://localhost:8080/",
          "height": 308
        },
        "id": "WAuVoeTEDOMX",
        "outputId": "eae52dd8-5d5d-4e52-b8bf-5d291b522853"
      },
      "execution_count": 17,
      "outputs": [
        {
          "output_type": "execute_result",
          "data": {
            "text/plain": [
              "<matplotlib.axes._subplots.AxesSubplot at 0x7f8de1f4f750>"
            ]
          },
          "metadata": {},
          "execution_count": 17
        },
        {
          "output_type": "display_data",
          "data": {
            "text/plain": [
              "<Figure size 432x288 with 1 Axes>"
            ],
            "image/png": "[encoded data removed]"
          },
          "metadata": {
            "needs_background": "light"
          }
        }
      ]
    },
    {
      "cell_type": "markdown",
      "source": [
        "Как видите, объем пожертвований и количество открытых электронных писем увеличились с 2015 по 2018 год. Это неудивительно, поскольку за этот же период у организации прибавилось членов, о чем свидетельствует общее количество новых членов, присоединившихся к организации за учитываемые годы. Фактически одно из допущений нашей модели заключалось в том, что мы должны сохранять информацию о каждом члене неопределенный длительный период времени после его вступления в организацию. Мы не предусмотрели возможность выхода из организации, хотя и учли, что ее члены могут потерять интерес к благотворительной деятельности (отказ от просмотра электронных писем). Однако даже в этом случае за ними сохраняется возможность внесения пожертвований. "
      ],
      "metadata": {
        "id": "PQNmo1V6DCrb"
      }
    },
    {
      "cell_type": "markdown",
      "source": [
        "Таким образом, нам следует доработать код, чтобы исключить из него нереалистичный сценарий неограниченного членства и срока внесения пожертвований. В нашем примере мы несколько отходим от классических принципов моделирования временных рядов и занимаемся скорее генерированием табличных данных. Но не нужно забывать и том, что нашей конечной целью было получение временных рядов. Поэтому генерирование табличных данных выполнялось с учетом следующих факторов и предположений.\n",
        "*  Общее количество временных рядов.\n",
        "*  Моделируемые временные тренды.\n",
        "\n",
        "> — В случае электронной почты мы будем придерживаться трех трендов: постоянной, растущей и падающей частот просмотра электронной почты.\n",
        "\n",
        "> — Внесение добровольных пожертвований считается шаблонным поведением, коррелирующим с количеством электронных писем, просматриваемым членом организации за анализируемый период времени. Это порождает упреждение, но, поскольку данные генерируются, а не собираются, таким способом описывается лояльность к организации — чем чаще просматриваются электронные письма, тем больше частота внесения пожертвований.\n",
        "\n",
        "*  События просмотра электронных писем и внесения пожертвований должны приниматься в расчет только после получения членства в организации.\n",
        "*  Данные не должны уходить в будущее в угоду их конечным потребителям, даже несмотря на то, что в моделировании такие данные всегда приветствуются.\n",
        "\n",
        "Конечно, полученный нами код не идеален. Он громоздкий и не реализует модель в задуманном виде. Более того, поскольку логика модели проверялась только на программном уровне, в ней могут встречаться ошибки пограничного характера (возникновения событий в нелогической последовательности). Для предотвращения ошибок такого типа, прежде чем приступить к разработке модели, нужно выработать общие показатели и стандарты ее достоверности. \n",
        "\n",
        "Итак, нам требуется программное обеспечение, которое сделает модель логичной и целостной. За помощью обратимся к генераторам языка Python.\n",
        " "
      ],
      "metadata": {
        "id": "3DxrghL0D1y1"
      }
    }
  ]
}